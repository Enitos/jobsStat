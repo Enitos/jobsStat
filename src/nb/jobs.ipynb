{
 "cells": [
  {
   "cell_type": "code",
   "execution_count": 13,
   "id": "0d1cb989",
   "metadata": {},
   "outputs": [],
   "source": [
    "import os\n",
    "import asyncio"
   ]
  },
  {
   "cell_type": "code",
   "execution_count": 6,
   "id": "e48b97e3",
   "metadata": {},
   "outputs": [
    {
     "name": "stdout",
     "output_type": "stream",
     "text": [
      "C:\\Users\\nito-\\OneDrive\\Área de Trabalho\\jobsStat\n"
     ]
    }
   ],
   "source": [
    "cd /Users/nito-/OneDrive/Área de Trabalho/jobsStat"
   ]
  },
  {
   "cell_type": "code",
   "execution_count": 9,
   "id": "7a1f20e9",
   "metadata": {},
   "outputs": [],
   "source": [
    "from src.app import main"
   ]
  },
  {
   "cell_type": "code",
   "execution_count": 10,
   "id": "66ac0c06",
   "metadata": {},
   "outputs": [],
   "source": [
    "data = main"
   ]
  },
  {
   "cell_type": "code",
   "execution_count": 11,
   "id": "3536b969",
   "metadata": {},
   "outputs": [
    {
     "data": {
      "text/plain": [
       "<function src.app.main()>"
      ]
     },
     "execution_count": 11,
     "metadata": {},
     "output_type": "execute_result"
    }
   ],
   "source": [
    "data"
   ]
  },
  {
   "cell_type": "code",
   "execution_count": 14,
   "id": "64e1a654",
   "metadata": {},
   "outputs": [
    {
     "ename": "RuntimeError",
     "evalue": "asyncio.run() cannot be called from a running event loop",
     "output_type": "error",
     "traceback": [
      "\u001b[1;31m---------------------------------------------------------------------------\u001b[0m",
      "\u001b[1;31mRuntimeError\u001b[0m                              Traceback (most recent call last)",
      "Cell \u001b[1;32mIn[14], line 1\u001b[0m\n\u001b[1;32m----> 1\u001b[0m \u001b[43masyncio\u001b[49m\u001b[38;5;241;43m.\u001b[39;49m\u001b[43mrun\u001b[49m\u001b[43m(\u001b[49m\u001b[43mdata\u001b[49m\u001b[43m)\u001b[49m\n",
      "File \u001b[1;32mC:\\Program Files\\WindowsApps\\PythonSoftwareFoundation.Python.3.10_3.10.3056.0_x64__qbz5n2kfra8p0\\lib\\asyncio\\runners.py:33\u001b[0m, in \u001b[0;36mrun\u001b[1;34m(main, debug)\u001b[0m\n\u001b[0;32m      9\u001b[0m \u001b[38;5;250m\u001b[39m\u001b[38;5;124;03m\"\"\"Execute the coroutine and return the result.\u001b[39;00m\n\u001b[0;32m     10\u001b[0m \n\u001b[0;32m     11\u001b[0m \u001b[38;5;124;03mThis function runs the passed coroutine, taking care of\u001b[39;00m\n\u001b[1;32m   (...)\u001b[0m\n\u001b[0;32m     30\u001b[0m \u001b[38;5;124;03m    asyncio.run(main())\u001b[39;00m\n\u001b[0;32m     31\u001b[0m \u001b[38;5;124;03m\"\"\"\u001b[39;00m\n\u001b[0;32m     32\u001b[0m \u001b[38;5;28;01mif\u001b[39;00m events\u001b[38;5;241m.\u001b[39m_get_running_loop() \u001b[38;5;129;01mis\u001b[39;00m \u001b[38;5;129;01mnot\u001b[39;00m \u001b[38;5;28;01mNone\u001b[39;00m:\n\u001b[1;32m---> 33\u001b[0m     \u001b[38;5;28;01mraise\u001b[39;00m \u001b[38;5;167;01mRuntimeError\u001b[39;00m(\n\u001b[0;32m     34\u001b[0m         \u001b[38;5;124m\"\u001b[39m\u001b[38;5;124masyncio.run() cannot be called from a running event loop\u001b[39m\u001b[38;5;124m\"\u001b[39m)\n\u001b[0;32m     36\u001b[0m \u001b[38;5;28;01mif\u001b[39;00m \u001b[38;5;129;01mnot\u001b[39;00m coroutines\u001b[38;5;241m.\u001b[39miscoroutine(main):\n\u001b[0;32m     37\u001b[0m     \u001b[38;5;28;01mraise\u001b[39;00m \u001b[38;5;167;01mValueError\u001b[39;00m(\u001b[38;5;124m\"\u001b[39m\u001b[38;5;124ma coroutine was expected, got \u001b[39m\u001b[38;5;132;01m{!r}\u001b[39;00m\u001b[38;5;124m\"\u001b[39m\u001b[38;5;241m.\u001b[39mformat(main))\n",
      "\u001b[1;31mRuntimeError\u001b[0m: asyncio.run() cannot be called from a running event loop"
     ]
    }
   ],
   "source": [
    "asyncio.run(data)"
   ]
  },
  {
   "cell_type": "code",
   "execution_count": 16,
   "id": "a422bae2",
   "metadata": {},
   "outputs": [],
   "source": [
    "import aiohttp"
   ]
  },
  {
   "cell_type": "code",
   "execution_count": 17,
   "id": "8819c4d2",
   "metadata": {},
   "outputs": [],
   "source": [
    "import asyncio"
   ]
  },
  {
   "cell_type": "code",
   "execution_count": 33,
   "id": "e0fe5162",
   "metadata": {},
   "outputs": [],
   "source": [
    "from pandas import json_normalize"
   ]
  },
  {
   "cell_type": "code",
   "execution_count": 18,
   "id": "8d3b9d58",
   "metadata": {},
   "outputs": [],
   "source": [
    "async def fetch_json(url):\n",
    "    async with aiohttp.ClientSession() as session:\n",
    "        async with session.get(url) as response:\n",
    "            data = await response.json()\n",
    "            return data "
   ]
  },
  {
   "cell_type": "code",
   "execution_count": 55,
   "id": "43d8168b",
   "metadata": {},
   "outputs": [
    {
     "ename": "CancelledError",
     "evalue": "",
     "output_type": "error",
     "traceback": [
      "\u001b[1;31m---------------------------------------------------------------------------\u001b[0m",
      "\u001b[1;31mCancelledError\u001b[0m                            Traceback (most recent call last)",
      "Cell \u001b[1;32mIn[55], line 5\u001b[0m\n\u001b[0;32m      3\u001b[0m results \u001b[38;5;241m=\u001b[39m []\n\u001b[0;32m      4\u001b[0m \u001b[38;5;28;01mwhile\u001b[39;00m url \u001b[38;5;129;01mis\u001b[39;00m \u001b[38;5;129;01mnot\u001b[39;00m \u001b[38;5;28;01mNone\u001b[39;00m:\n\u001b[1;32m----> 5\u001b[0m     data \u001b[38;5;241m=\u001b[39m \u001b[38;5;28;01mawait\u001b[39;00m fetch_json(url)\n\u001b[0;32m      6\u001b[0m     results \u001b[38;5;241m+\u001b[39m\u001b[38;5;241m=\u001b[39m data[\u001b[38;5;124m'\u001b[39m\u001b[38;5;124mdata\u001b[39m\u001b[38;5;124m'\u001b[39m]\n\u001b[0;32m      7\u001b[0m     next_url \u001b[38;5;241m=\u001b[39m data[\u001b[38;5;124m'\u001b[39m\u001b[38;5;124mpagination\u001b[39m\u001b[38;5;124m'\u001b[39m][\u001b[38;5;124m'\u001b[39m\u001b[38;5;124mnext\u001b[39m\u001b[38;5;124m'\u001b[39m]\n",
      "Cell \u001b[1;32mIn[18], line 3\u001b[0m, in \u001b[0;36mfetch_json\u001b[1;34m(url)\u001b[0m\n\u001b[0;32m      1\u001b[0m \u001b[38;5;28;01masync\u001b[39;00m \u001b[38;5;28;01mdef\u001b[39;00m \u001b[38;5;21mfetch_json\u001b[39m(url):\n\u001b[0;32m      2\u001b[0m     \u001b[38;5;28;01masync\u001b[39;00m \u001b[38;5;28;01mwith\u001b[39;00m aiohttp\u001b[38;5;241m.\u001b[39mClientSession() \u001b[38;5;28;01mas\u001b[39;00m session:\n\u001b[1;32m----> 3\u001b[0m         \u001b[38;5;28;01masync\u001b[39;00m \u001b[38;5;28;01mwith\u001b[39;00m session\u001b[38;5;241m.\u001b[39mget(url) \u001b[38;5;28;01mas\u001b[39;00m response:\n\u001b[0;32m      4\u001b[0m             data \u001b[38;5;241m=\u001b[39m \u001b[38;5;28;01mawait\u001b[39;00m response\u001b[38;5;241m.\u001b[39mjson()\n\u001b[0;32m      5\u001b[0m             \u001b[38;5;28;01mreturn\u001b[39;00m data\n",
      "File \u001b[1;32mc:\\Users\\nito-\\OneDrive\\Área de Trabalho\\jobsStat\\.venv\\lib\\site-packages\\aiohttp\\client.py:1141\u001b[0m, in \u001b[0;36m_BaseRequestContextManager.__aenter__\u001b[1;34m(self)\u001b[0m\n\u001b[0;32m   1140\u001b[0m \u001b[38;5;28;01masync\u001b[39;00m \u001b[38;5;28;01mdef\u001b[39;00m \u001b[38;5;21m__aenter__\u001b[39m(\u001b[38;5;28mself\u001b[39m) \u001b[38;5;241m-\u001b[39m\u001b[38;5;241m>\u001b[39m _RetType:\n\u001b[1;32m-> 1141\u001b[0m     \u001b[38;5;28mself\u001b[39m\u001b[38;5;241m.\u001b[39m_resp \u001b[38;5;241m=\u001b[39m \u001b[38;5;28;01mawait\u001b[39;00m \u001b[38;5;28mself\u001b[39m\u001b[38;5;241m.\u001b[39m_coro\n\u001b[0;32m   1142\u001b[0m     \u001b[38;5;28;01mreturn\u001b[39;00m \u001b[38;5;28mself\u001b[39m\u001b[38;5;241m.\u001b[39m_resp\n",
      "File \u001b[1;32mc:\\Users\\nito-\\OneDrive\\Área de Trabalho\\jobsStat\\.venv\\lib\\site-packages\\aiohttp\\client.py:560\u001b[0m, in \u001b[0;36mClientSession._request\u001b[1;34m(self, method, str_or_url, params, data, json, cookies, headers, skip_auto_headers, auth, allow_redirects, max_redirects, compress, chunked, expect100, raise_for_status, read_until_eof, proxy, proxy_auth, timeout, verify_ssl, fingerprint, ssl_context, ssl, proxy_headers, trace_request_ctx, read_bufsize)\u001b[0m\n\u001b[0;32m    558\u001b[0m resp \u001b[38;5;241m=\u001b[39m \u001b[38;5;28;01mawait\u001b[39;00m req\u001b[38;5;241m.\u001b[39msend(conn)\n\u001b[0;32m    559\u001b[0m \u001b[38;5;28;01mtry\u001b[39;00m:\n\u001b[1;32m--> 560\u001b[0m     \u001b[38;5;28;01mawait\u001b[39;00m resp\u001b[38;5;241m.\u001b[39mstart(conn)\n\u001b[0;32m    561\u001b[0m \u001b[38;5;28;01mexcept\u001b[39;00m \u001b[38;5;167;01mBaseException\u001b[39;00m:\n\u001b[0;32m    562\u001b[0m     resp\u001b[38;5;241m.\u001b[39mclose()\n",
      "File \u001b[1;32mc:\\Users\\nito-\\OneDrive\\Área de Trabalho\\jobsStat\\.venv\\lib\\site-packages\\aiohttp\\client_reqrep.py:899\u001b[0m, in \u001b[0;36mClientResponse.start\u001b[1;34m(self, connection)\u001b[0m\n\u001b[0;32m    897\u001b[0m \u001b[38;5;28;01mtry\u001b[39;00m:\n\u001b[0;32m    898\u001b[0m     protocol \u001b[38;5;241m=\u001b[39m \u001b[38;5;28mself\u001b[39m\u001b[38;5;241m.\u001b[39m_protocol\n\u001b[1;32m--> 899\u001b[0m     message, payload \u001b[38;5;241m=\u001b[39m \u001b[38;5;28;01mawait\u001b[39;00m protocol\u001b[38;5;241m.\u001b[39mread()  \u001b[38;5;66;03m# type: ignore[union-attr]\u001b[39;00m\n\u001b[0;32m    900\u001b[0m \u001b[38;5;28;01mexcept\u001b[39;00m http\u001b[38;5;241m.\u001b[39mHttpProcessingError \u001b[38;5;28;01mas\u001b[39;00m exc:\n\u001b[0;32m    901\u001b[0m     \u001b[38;5;28;01mraise\u001b[39;00m ClientResponseError(\n\u001b[0;32m    902\u001b[0m         \u001b[38;5;28mself\u001b[39m\u001b[38;5;241m.\u001b[39mrequest_info,\n\u001b[0;32m    903\u001b[0m         \u001b[38;5;28mself\u001b[39m\u001b[38;5;241m.\u001b[39mhistory,\n\u001b[1;32m   (...)\u001b[0m\n\u001b[0;32m    906\u001b[0m         headers\u001b[38;5;241m=\u001b[39mexc\u001b[38;5;241m.\u001b[39mheaders,\n\u001b[0;32m    907\u001b[0m     ) \u001b[38;5;28;01mfrom\u001b[39;00m \u001b[38;5;21;01mexc\u001b[39;00m\n",
      "File \u001b[1;32mc:\\Users\\nito-\\OneDrive\\Área de Trabalho\\jobsStat\\.venv\\lib\\site-packages\\aiohttp\\streams.py:616\u001b[0m, in \u001b[0;36mDataQueue.read\u001b[1;34m(self)\u001b[0m\n\u001b[0;32m    614\u001b[0m \u001b[38;5;28mself\u001b[39m\u001b[38;5;241m.\u001b[39m_waiter \u001b[38;5;241m=\u001b[39m \u001b[38;5;28mself\u001b[39m\u001b[38;5;241m.\u001b[39m_loop\u001b[38;5;241m.\u001b[39mcreate_future()\n\u001b[0;32m    615\u001b[0m \u001b[38;5;28;01mtry\u001b[39;00m:\n\u001b[1;32m--> 616\u001b[0m     \u001b[38;5;28;01mawait\u001b[39;00m \u001b[38;5;28mself\u001b[39m\u001b[38;5;241m.\u001b[39m_waiter\n\u001b[0;32m    617\u001b[0m \u001b[38;5;28;01mexcept\u001b[39;00m (asyncio\u001b[38;5;241m.\u001b[39mCancelledError, asyncio\u001b[38;5;241m.\u001b[39mTimeoutError):\n\u001b[0;32m    618\u001b[0m     \u001b[38;5;28mself\u001b[39m\u001b[38;5;241m.\u001b[39m_waiter \u001b[38;5;241m=\u001b[39m \u001b[38;5;28;01mNone\u001b[39;00m\n",
      "\u001b[1;31mCancelledError\u001b[0m: "
     ]
    }
   ],
   "source": [
    "url = \"https://api-omt.gov.cv/jobs\"\n",
    "base_url=\"https://api-omt.gov.cv\"\n",
    "results = []\n",
    "while url is not None:\n",
    "    data = await fetch_json(url)\n",
    "    results += data['data']\n",
    "    next_url = data['pagination']['next']\n",
    "    if next_url is not None:\n",
    "        url = base_url+next_url"
   ]
  },
  {
   "cell_type": "code",
   "execution_count": 57,
   "id": "c45b5fab",
   "metadata": {},
   "outputs": [
    {
     "name": "stdout",
     "output_type": "stream",
     "text": [
      "https://api-omt.gov.cv/jobs?page_num=2&page_size=10\n"
     ]
    }
   ],
   "source": [
    "url = \"https://api-omt.gov.cv/jobs\"\n",
    "base_url=\"https://api-omt.gov.cv\"\n",
    "results = []\n",
    "data = await fetch_json(url)\n",
    "next_url = data['pagination']['next']\n",
    "\n",
    "if next_url is not None:\n",
    "        url = base_url+next_url\n",
    "        \n",
    "print(url)"
   ]
  },
  {
   "cell_type": "code",
   "execution_count": 44,
   "id": "c62e6648",
   "metadata": {},
   "outputs": [],
   "source": [
    "next_page=data['pagination']['next']"
   ]
  },
  {
   "cell_type": "code",
   "execution_count": 42,
   "id": "ecdaafb5",
   "metadata": {},
   "outputs": [],
   "source": [
    "base_url=\"https://api-omt.gov.cv\""
   ]
  },
  {
   "cell_type": "code",
   "execution_count": 49,
   "id": "f967eb01",
   "metadata": {},
   "outputs": [],
   "source": [
    "parts = [base_url, next_page]"
   ]
  },
  {
   "cell_type": "code",
   "execution_count": 50,
   "id": "d67ae8b8",
   "metadata": {},
   "outputs": [],
   "source": [
    "def urljoin(*args):\n",
    "    return \"/\".join(lambda x: str(x).rstrip('/'), args)"
   ]
  },
  {
   "cell_type": "code",
   "execution_count": 52,
   "id": "9105ccff",
   "metadata": {},
   "outputs": [],
   "source": [
    "new_url = base_url+next_page"
   ]
  },
  {
   "cell_type": "code",
   "execution_count": 53,
   "id": "47ada4a5",
   "metadata": {},
   "outputs": [
    {
     "data": {
      "text/plain": [
       "'https://api-omt.gov.cv/jobs?page_num=2&page_size=10'"
      ]
     },
     "execution_count": 53,
     "metadata": {},
     "output_type": "execute_result"
    }
   ],
   "source": [
    "new_url"
   ]
  },
  {
   "cell_type": "code",
   "execution_count": 34,
   "id": "9f0c610d",
   "metadata": {},
   "outputs": [],
   "source": [
    "df = json_normalize(data['data'])"
   ]
  },
  {
   "cell_type": "code",
   "execution_count": 35,
   "id": "f6b60b6e",
   "metadata": {},
   "outputs": [
    {
     "data": {
      "text/html": [
       "<div>\n",
       "<style scoped>\n",
       "    .dataframe tbody tr th:only-of-type {\n",
       "        vertical-align: middle;\n",
       "    }\n",
       "\n",
       "    .dataframe tbody tr th {\n",
       "        vertical-align: top;\n",
       "    }\n",
       "\n",
       "    .dataframe thead th {\n",
       "        text-align: right;\n",
       "    }\n",
       "</style>\n",
       "<table border=\"1\" class=\"dataframe\">\n",
       "  <thead>\n",
       "    <tr style=\"text-align: right;\">\n",
       "      <th></th>\n",
       "      <th>job_id</th>\n",
       "      <th>job_cod</th>\n",
       "      <th>title</th>\n",
       "      <th>job_web</th>\n",
       "      <th>job_img</th>\n",
       "      <th>compane_name</th>\n",
       "      <th>city</th>\n",
       "      <th>data_limit</th>\n",
       "      <th>area</th>\n",
       "      <th>url</th>\n",
       "      <th>number_points</th>\n",
       "      <th>modal</th>\n",
       "      <th>job_data_post.days_from_epoch</th>\n",
       "    </tr>\n",
       "  </thead>\n",
       "  <tbody>\n",
       "    <tr>\n",
       "      <th>0</th>\n",
       "      <td>c4099a2a-e525-11ed-991c-0242ac190006</td>\n",
       "      <td>254/2023</td>\n",
       "      <td>Dealer (Jogos de mesa)</td>\n",
       "      <td>Pepe</td>\n",
       "      <td></td>\n",
       "      <td>Casino Royal SA</td>\n",
       "      <td>Unknown</td>\n",
       "      <td>30-04-2023</td>\n",
       "      <td>Unknown</td>\n",
       "      <td>https://www.pepe.iefp.cv/frontend/web/pt/oport...</td>\n",
       "      <td>15</td>\n",
       "      <td>Unknown</td>\n",
       "      <td>19474</td>\n",
       "    </tr>\n",
       "    <tr>\n",
       "      <th>1</th>\n",
       "      <td>ad5a54b8-d3aa-11ed-b645-0242ac140006</td>\n",
       "      <td>Concurso Nº02 MFDIS_2022_PRVPAP</td>\n",
       "      <td>Técnico Nível I</td>\n",
       "      <td>Concurso</td>\n",
       "      <td>https://www.governo.cv/wp-content/themes/gover...</td>\n",
       "      <td>MFIS -Ministério da Família e Inclusão Social</td>\n",
       "      <td>Unknown</td>\n",
       "      <td></td>\n",
       "      <td>Varias</td>\n",
       "      <td>https://www.mf.gov.cv/web/dnap/concursos-exter...</td>\n",
       "      <td>5</td>\n",
       "      <td>Concurso de Precarios</td>\n",
       "      <td>19452</td>\n",
       "    </tr>\n",
       "    <tr>\n",
       "      <th>2</th>\n",
       "      <td>ac76adfc-ec6a-11ed-991c-0242ac190006</td>\n",
       "      <td>901870662728962857</td>\n",
       "      <td>Recrutamento de um Assistente Comercial - São ...</td>\n",
       "      <td>vagascv</td>\n",
       "      <td>https://blogger.googleusercontent.com/img/b/R2...</td>\n",
       "      <td>LOFLA'S FOOD</td>\n",
       "      <td>São Vicente</td>\n",
       "      <td></td>\n",
       "      <td>Unknown</td>\n",
       "      <td>https://www.vagascv.info/2023/05/recrutamento-...</td>\n",
       "      <td>Unknown</td>\n",
       "      <td>Unknown</td>\n",
       "      <td>19483</td>\n",
       "    </tr>\n",
       "    <tr>\n",
       "      <th>3</th>\n",
       "      <td>5328df54-e526-11ed-bb0e-0242ac190006</td>\n",
       "      <td>394/2023</td>\n",
       "      <td>AGENTE DE VIAGEM</td>\n",
       "      <td>Pepe</td>\n",
       "      <td></td>\n",
       "      <td>EMPS-EMPRESA MOREIRA PRESTAÇÃO DE SERVIÇOS</td>\n",
       "      <td>Unknown</td>\n",
       "      <td>12-10-2023</td>\n",
       "      <td>Unknown</td>\n",
       "      <td>https://www.pepe.iefp.cv/frontend/web/pt/oport...</td>\n",
       "      <td>1</td>\n",
       "      <td>Unknown</td>\n",
       "      <td>19474</td>\n",
       "    </tr>\n",
       "    <tr>\n",
       "      <th>4</th>\n",
       "      <td>9225d4d4-d3a9-11ed-aec6-0242ac140006</td>\n",
       "      <td>Concurso Nº05_MFFE_2021_Ciências Comunicação_...</td>\n",
       "      <td>Técnico de Finanças Nível I</td>\n",
       "      <td>Concurso</td>\n",
       "      <td>https://www.governo.cv/wp-content/themes/gover...</td>\n",
       "      <td>MF - Ministério das Finanças</td>\n",
       "      <td>Unknown</td>\n",
       "      <td></td>\n",
       "      <td>Ciências Comunicação_Comunicação Social_Relaç...</td>\n",
       "      <td>https://www.mf.gov.cv/web/dnap/concursos-exter...</td>\n",
       "      <td>4</td>\n",
       "      <td>Concursos Externo</td>\n",
       "      <td>19452</td>\n",
       "    </tr>\n",
       "    <tr>\n",
       "      <th>5</th>\n",
       "      <td>e857c5f0-e557-11ed-991c-0242ac190006</td>\n",
       "      <td>3947508469890918136</td>\n",
       "      <td>Vaga: Atendimento on-line a clientes</td>\n",
       "      <td>vagascv</td>\n",
       "      <td>https://blogger.googleusercontent.com/img/b/R2...</td>\n",
       "      <td>Atendimento On-line a Clientes</td>\n",
       "      <td></td>\n",
       "      <td></td>\n",
       "      <td>Unknown</td>\n",
       "      <td>https://www.vagascv.info/2023/04/vaga-atendime...</td>\n",
       "      <td>Unknown</td>\n",
       "      <td>Unknown</td>\n",
       "      <td>19474</td>\n",
       "    </tr>\n",
       "    <tr>\n",
       "      <th>6</th>\n",
       "      <td>99a950c8-d3a9-11ed-b531-0242ac140006</td>\n",
       "      <td>4131564809872023967</td>\n",
       "      <td>Oportunidade de Trabalho na Embaixada dos EUA ...</td>\n",
       "      <td>vagascv</td>\n",
       "      <td>https://blogger.googleusercontent.com/img/b/R2...</td>\n",
       "      <td>PRAIA-2023-007  WAREHOUSE SUPERVISOR FSN-07</td>\n",
       "      <td></td>\n",
       "      <td>Failure to provide requested information, or t...</td>\n",
       "      <td>Unknown</td>\n",
       "      <td>https://www.vagascv.info/2023/01/oportunidades...</td>\n",
       "      <td>Unknown</td>\n",
       "      <td>Unknown</td>\n",
       "      <td>19451</td>\n",
       "    </tr>\n",
       "    <tr>\n",
       "      <th>7</th>\n",
       "      <td>707adaa2-e527-11ed-bb0e-0242ac190006</td>\n",
       "      <td>5549686413494960172</td>\n",
       "      <td>Vaga na Cozinha em Empresa de Restauração e Ca...</td>\n",
       "      <td>vagascv</td>\n",
       "      <td>https://blogger.googleusercontent.com/img/b/R2...</td>\n",
       "      <td>Profissão:</td>\n",
       "      <td>Praia</td>\n",
       "      <td></td>\n",
       "      <td>Unknown</td>\n",
       "      <td>https://www.vagascv.info/2023/04/vaga-na-cozin...</td>\n",
       "      <td>Unknown</td>\n",
       "      <td>Unknown</td>\n",
       "      <td>19467</td>\n",
       "    </tr>\n",
       "    <tr>\n",
       "      <th>8</th>\n",
       "      <td>69fe1510-d3aa-11ed-b645-0242ac140006</td>\n",
       "      <td>Concurso Nº01_MM_2022_PRVPAP</td>\n",
       "      <td>Técnico Nível I</td>\n",
       "      <td>Concurso</td>\n",
       "      <td>https://www.governo.cv/wp-content/themes/gover...</td>\n",
       "      <td>MM - Ministério do Mar</td>\n",
       "      <td>Unknown</td>\n",
       "      <td></td>\n",
       "      <td>Varias</td>\n",
       "      <td>https://www.mf.gov.cv/web/dnap/concursos-exter...</td>\n",
       "      <td>11</td>\n",
       "      <td>Concursos Externo</td>\n",
       "      <td>19452</td>\n",
       "    </tr>\n",
       "    <tr>\n",
       "      <th>9</th>\n",
       "      <td>f753da80-d3aa-11ed-a9d9-0242ac140006</td>\n",
       "      <td>7829857125510477547</td>\n",
       "      <td>Recrutamento de Monitores e Voluntários de Tar...</td>\n",
       "      <td>vagascv</td>\n",
       "      <td>https://blogger.googleusercontent.com/img/b/R2...</td>\n",
       "      <td>- MONITORES</td>\n",
       "      <td></td>\n",
       "      <td></td>\n",
       "      <td>Unknown</td>\n",
       "      <td>https://www.vagascv.info/2023/04/recrutamento-...</td>\n",
       "      <td>Unknown</td>\n",
       "      <td>Unknown</td>\n",
       "      <td>19449</td>\n",
       "    </tr>\n",
       "  </tbody>\n",
       "</table>\n",
       "</div>"
      ],
      "text/plain": [
       "                                 job_id   \n",
       "0  c4099a2a-e525-11ed-991c-0242ac190006  \\\n",
       "1  ad5a54b8-d3aa-11ed-b645-0242ac140006   \n",
       "2  ac76adfc-ec6a-11ed-991c-0242ac190006   \n",
       "3  5328df54-e526-11ed-bb0e-0242ac190006   \n",
       "4  9225d4d4-d3a9-11ed-aec6-0242ac140006   \n",
       "5  e857c5f0-e557-11ed-991c-0242ac190006   \n",
       "6  99a950c8-d3a9-11ed-b531-0242ac140006   \n",
       "7  707adaa2-e527-11ed-bb0e-0242ac190006   \n",
       "8  69fe1510-d3aa-11ed-b645-0242ac140006   \n",
       "9  f753da80-d3aa-11ed-a9d9-0242ac140006   \n",
       "\n",
       "                                             job_cod   \n",
       "0                                           254/2023  \\\n",
       "1                    Concurso Nº02 MFDIS_2022_PRVPAP   \n",
       "2                                 901870662728962857   \n",
       "3                                           394/2023   \n",
       "4   Concurso Nº05_MFFE_2021_Ciências Comunicação_...   \n",
       "5                                3947508469890918136   \n",
       "6                                4131564809872023967   \n",
       "7                                5549686413494960172   \n",
       "8                       Concurso Nº01_MM_2022_PRVPAP   \n",
       "9                                7829857125510477547   \n",
       "\n",
       "                                               title   job_web   \n",
       "0                             Dealer (Jogos de mesa)      Pepe  \\\n",
       "1                                    Técnico Nível I  Concurso   \n",
       "2  Recrutamento de um Assistente Comercial - São ...   vagascv   \n",
       "3                                   AGENTE DE VIAGEM      Pepe   \n",
       "4                        Técnico de Finanças Nível I  Concurso   \n",
       "5               Vaga: Atendimento on-line a clientes   vagascv   \n",
       "6  Oportunidade de Trabalho na Embaixada dos EUA ...   vagascv   \n",
       "7  Vaga na Cozinha em Empresa de Restauração e Ca...   vagascv   \n",
       "8                                    Técnico Nível I  Concurso   \n",
       "9  Recrutamento de Monitores e Voluntários de Tar...   vagascv   \n",
       "\n",
       "                                             job_img   \n",
       "0                                                     \\\n",
       "1  https://www.governo.cv/wp-content/themes/gover...   \n",
       "2  https://blogger.googleusercontent.com/img/b/R2...   \n",
       "3                                                      \n",
       "4  https://www.governo.cv/wp-content/themes/gover...   \n",
       "5  https://blogger.googleusercontent.com/img/b/R2...   \n",
       "6  https://blogger.googleusercontent.com/img/b/R2...   \n",
       "7  https://blogger.googleusercontent.com/img/b/R2...   \n",
       "8  https://www.governo.cv/wp-content/themes/gover...   \n",
       "9  https://blogger.googleusercontent.com/img/b/R2...   \n",
       "\n",
       "                                    compane_name         city   \n",
       "0                                Casino Royal SA      Unknown  \\\n",
       "1  MFIS -Ministério da Família e Inclusão Social      Unknown   \n",
       "2                                   LOFLA'S FOOD  São Vicente   \n",
       "3     EMPS-EMPRESA MOREIRA PRESTAÇÃO DE SERVIÇOS      Unknown   \n",
       "4                   MF - Ministério das Finanças      Unknown   \n",
       "5                 Atendimento On-line a Clientes                \n",
       "6    PRAIA-2023-007  WAREHOUSE SUPERVISOR FSN-07                \n",
       "7                                     Profissão:        Praia   \n",
       "8                         MM - Ministério do Mar      Unknown   \n",
       "9                                    - MONITORES                \n",
       "\n",
       "                                          data_limit   \n",
       "0                                         30-04-2023  \\\n",
       "1                                                      \n",
       "2                                                      \n",
       "3                                         12-10-2023   \n",
       "4                                                      \n",
       "5                                                      \n",
       "6  Failure to provide requested information, or t...   \n",
       "7                                                      \n",
       "8                                                      \n",
       "9                                                      \n",
       "\n",
       "                                                area   \n",
       "0                                            Unknown  \\\n",
       "1                                             Varias   \n",
       "2                                            Unknown   \n",
       "3                                            Unknown   \n",
       "4   Ciências Comunicação_Comunicação Social_Relaç...   \n",
       "5                                            Unknown   \n",
       "6                                            Unknown   \n",
       "7                                            Unknown   \n",
       "8                                             Varias   \n",
       "9                                            Unknown   \n",
       "\n",
       "                                                 url number_points   \n",
       "0  https://www.pepe.iefp.cv/frontend/web/pt/oport...            15  \\\n",
       "1  https://www.mf.gov.cv/web/dnap/concursos-exter...             5   \n",
       "2  https://www.vagascv.info/2023/05/recrutamento-...       Unknown   \n",
       "3  https://www.pepe.iefp.cv/frontend/web/pt/oport...             1   \n",
       "4  https://www.mf.gov.cv/web/dnap/concursos-exter...             4   \n",
       "5  https://www.vagascv.info/2023/04/vaga-atendime...       Unknown   \n",
       "6  https://www.vagascv.info/2023/01/oportunidades...       Unknown   \n",
       "7  https://www.vagascv.info/2023/04/vaga-na-cozin...       Unknown   \n",
       "8  https://www.mf.gov.cv/web/dnap/concursos-exter...            11   \n",
       "9  https://www.vagascv.info/2023/04/recrutamento-...       Unknown   \n",
       "\n",
       "                    modal  job_data_post.days_from_epoch  \n",
       "0                 Unknown                          19474  \n",
       "1   Concurso de Precarios                          19452  \n",
       "2                 Unknown                          19483  \n",
       "3                 Unknown                          19474  \n",
       "4       Concursos Externo                          19452  \n",
       "5                 Unknown                          19474  \n",
       "6                 Unknown                          19451  \n",
       "7                 Unknown                          19467  \n",
       "8       Concursos Externo                          19452  \n",
       "9                 Unknown                          19449  "
      ]
     },
     "execution_count": 35,
     "metadata": {},
     "output_type": "execute_result"
    }
   ],
   "source": [
    "df"
   ]
  },
  {
   "cell_type": "code",
   "execution_count": 13,
   "id": "821c68f1",
   "metadata": {},
   "outputs": [],
   "source": [
    "data = response.json()"
   ]
  },
  {
   "cell_type": "code",
   "execution_count": 15,
   "id": "f4ed925b",
   "metadata": {},
   "outputs": [
    {
     "name": "stdout",
     "output_type": "stream",
     "text": [
      "{'data': [{'job_id': 'c4099a2a-e525-11ed-991c-0242ac190006', 'job_cod': '254/2023', 'title': 'Dealer (Jogos de mesa)', 'job_web': 'Pepe', 'job_data_post': {'days_from_epoch': 19474}, 'job_img': '', 'compane_name': 'Casino Royal SA', 'city': 'Unknown', 'data_limit': '30-04-2023', 'area': 'Unknown', 'url': 'https://www.pepe.iefp.cv/frontend/web/pt/oportunidades/oferta-emprego?value=Dealer+%28Jogos+de+mesa%29', 'number_points': '15', 'modal': 'Unknown'}, {'job_id': 'ad5a54b8-d3aa-11ed-b645-0242ac140006', 'job_cod': ' Concurso Nº02 MFDIS_2022_PRVPAP', 'title': 'Técnico Nível I', 'job_web': 'Concurso', 'job_data_post': {'days_from_epoch': 19452}, 'job_img': 'https://www.governo.cv/wp-content/themes/governocaboverde/img/svg/logo.svg', 'compane_name': 'MFIS -Ministério da Família e Inclusão Social', 'city': 'Unknown', 'data_limit': '', 'area': ' Varias', 'url': 'https://www.mf.gov.cv/web/dnap/concursos-externos-funcionarios/-/asset_publisher/sapX9F8bZ2Zg/content/concurso-n%25C2%25BA01-mfdis_2022_prvpap?_com_liferay_asset_publisher_web_portlet_AssetPublisherPortlet_INSTANCE_sapX9F8bZ2Zg_redirect=https%3A%2F%2Fwww.mf.gov.cv%2Fweb%2Fdnap%2Fconcursos-externos-funcionarios%3Fp_p_id%3Dcom_liferay_asset_publisher_web_portlet_AssetPublisherPortlet_INSTANCE_sapX9F8bZ2Zg%26p_p_lifecycle%3D0%26p_p_state%3Dnormal%26p_p_mode%3Dview%26_com_liferay_asset_publisher_web_portlet_AssetPublisherPortlet_INSTANCE_sapX9F8bZ2Zg_cur%3D0%26p_r_p_resetCur%3Dfalse%26_com_liferay_asset_publisher_web_portlet_AssetPublisherPortlet_INSTANCE_sapX9F8bZ2Zg_assetEntryId%3D3088502', 'number_points': ' 5', 'modal': ' Concurso de Precarios'}, {'job_id': 'ac76adfc-ec6a-11ed-991c-0242ac190006', 'job_cod': '901870662728962857', 'title': 'Recrutamento de um Assistente Comercial - São Vicente', 'job_web': 'vagascv', 'job_data_post': {'days_from_epoch': 19483}, 'job_img': 'https://blogger.googleusercontent.com/img/b/R29vZ2xl/AVvXsEioolORn4Ss_ATJd_3Q3VigEB7KvladreIrotT_-Z1UKmBOcNZ0dYibJJA_-5tDcWF5Mu0gHSJ4H3q5owQATxJCBnt8IIcHHouO9QqDsofKClVQpxUsymOVvGPjY_ziTykWu5K04VISxSvRe47F4By5YMc0_KCiN0J6AjpYMKoZADPrFHeeIdOhFQ/w600-h300-p-k-no-nu/Lofla_s-food.png', 'compane_name': \"LOFLA'S FOOD\", 'city': 'São Vicente', 'data_limit': '', 'area': 'Unknown', 'url': 'https://www.vagascv.info/2023/05/recrutamento-de-um-assistente-comercial.html', 'number_points': 'Unknown', 'modal': 'Unknown'}, {'job_id': '5328df54-e526-11ed-bb0e-0242ac190006', 'job_cod': '394/2023', 'title': 'AGENTE DE VIAGEM', 'job_web': 'Pepe', 'job_data_post': {'days_from_epoch': 19474}, 'job_img': '', 'compane_name': 'EMPS-EMPRESA MOREIRA PRESTAÇÃO DE SERVIÇOS', 'city': 'Unknown', 'data_limit': '12-10-2023', 'area': 'Unknown', 'url': 'https://www.pepe.iefp.cv/frontend/web/pt/oportunidades/oferta-emprego?value=AGENTE+DE+VIAGEM', 'number_points': '1', 'modal': 'Unknown'}, {'job_id': '9225d4d4-d3a9-11ed-aec6-0242ac140006', 'job_cod': ' Concurso Nº05_MFFE_2021_Ciências Comunicação_Comunicação Social_Relações Públicas', 'title': 'Técnico de Finanças Nível I', 'job_web': 'Concurso', 'job_data_post': {'days_from_epoch': 19452}, 'job_img': 'https://www.governo.cv/wp-content/themes/governocaboverde/img/svg/logo.svg', 'compane_name': 'MF - Ministério das Finanças', 'city': 'Unknown', 'data_limit': '', 'area': ' Ciências Comunicação_Comunicação Social_Relações Públicas', 'url': 'https://www.mf.gov.cv/web/dnap/concursos-externos-funcionarios/-/asset_publisher/sapX9F8bZ2Zg/content/concurso-n%25C2%25BA05_mffe_2021_ci%25C3%25AAncias-comunica%25C3%25A7%25C3%25A3o_comunica%25C3%25A7%25C3%25A3o-social_rela%25C3%25A7%25C3%25B5es-p%25C3%25BAblicas?_com_liferay_asset_publisher_web_portlet_AssetPublisherPortlet_INSTANCE_sapX9F8bZ2Zg_redirect=https%3A%2F%2Fwww.mf.gov.cv%2Fweb%2Fdnap%2Fconcursos-externos-funcionarios%3Fp_p_id%3Dcom_liferay_asset_publisher_web_portlet_AssetPublisherPortlet_INSTANCE_sapX9F8bZ2Zg%26p_p_lifecycle%3D0%26p_p_state%3Dnormal%26p_p_mode%3Dview%26_com_liferay_asset_publisher_web_portlet_AssetPublisherPortlet_INSTANCE_sapX9F8bZ2Zg_cur%3D0%26p_r_p_resetCur%3Dfalse%26_com_liferay_asset_publisher_web_portlet_AssetPublisherPortlet_INSTANCE_sapX9F8bZ2Zg_assetEntryId%3D2926165', 'number_points': ' 4', 'modal': ' Concursos Externo'}, {'job_id': 'e857c5f0-e557-11ed-991c-0242ac190006', 'job_cod': '3947508469890918136', 'title': 'Vaga: Atendimento on-line a clientes', 'job_web': 'vagascv', 'job_data_post': {'days_from_epoch': 19474}, 'job_img': 'https://blogger.googleusercontent.com/img/b/R29vZ2xl/AVvXsEgOG81-hi1MrEpr6MbHy-ODTce-wztpeG6XtqZVogIgoUsJUMHbO83zczZDPedIo2OJIjEge_qNZN4E7v5WO53gIOGJd8klAi1GfgcxUvf2ziA_JFowcVmySgveXi2dW0l_KFsho033eXOfTGIbClPZBiOnj-n_p9H8rl2EsOc01ff0xacS9CgrAQ/w600-h300-p-k-no-nu/Atendimento-Online-a-Clientes.png', 'compane_name': 'Atendimento On-line a Clientes', 'city': '', 'data_limit': '', 'area': 'Unknown', 'url': 'https://www.vagascv.info/2023/04/vaga-atendimento-online-a-clientes.html', 'number_points': 'Unknown', 'modal': 'Unknown'}, {'job_id': '99a950c8-d3a9-11ed-b531-0242ac140006', 'job_cod': '4131564809872023967', 'title': 'Oportunidade de Trabalho na Embaixada dos EUA em Cabo Verde', 'job_web': 'vagascv', 'job_data_post': {'days_from_epoch': 19451}, 'job_img': 'https://blogger.googleusercontent.com/img/b/R29vZ2xl/AVvXsEi7eDmMQ6g8w6ytUGIBQ13rqDGx3z6UfX9bpblCPEo8nuQL-xrbEn6EkaRmdldVSoTsjC0AeEoUfixu7XuRzcgh4Z3cFjO_MZ1DNVcldVnmItaNpAiAaXGV5mvLOZrDBUBPFpiCYw8RFItZ528xnqzRKLS7hZFmw_1JyxYoZejbcs11GJRrFuiGMw/w600-h300-p-k-no-nu/U.S.-Embassy-Praia,-Cabo-Verde.png', 'compane_name': 'PRAIA-2023-007  WAREHOUSE SUPERVISOR FSN-07', 'city': '', 'data_limit': 'Failure to provide requested information, or the information is insufficient to verify eligibility, may result in disqualification for this position.', 'area': 'Unknown', 'url': 'https://www.vagascv.info/2023/01/oportunidades-de-trabalho-na-embaixada.html', 'number_points': 'Unknown', 'modal': 'Unknown'}, {'job_id': '707adaa2-e527-11ed-bb0e-0242ac190006', 'job_cod': '5549686413494960172', 'title': 'Vaga na Cozinha em Empresa de Restauração e Catering - Praia', 'job_web': 'vagascv', 'job_data_post': {'days_from_epoch': 19467}, 'job_img': 'https://blogger.googleusercontent.com/img/b/R29vZ2xl/AVvXsEjPJVIbMlc4DxuEfVYUpYLn4ExzKxlp5UlT6UuDRKY9KlPmyP937JqD7XcXzbnb1yFrZh91SHOSEUqcZLGChbXQ0GoatwXuFBgOhWrMEmOPwK6VL0OSkmfXVS3Gan8G8NCiEibC7ZftIcE4rmoQfpxMcY78Ao9SD6tIGdA32xBcZvdhHy16fE2h0A/w600-h300-p-k-no-nu/Cozinha.png', 'compane_name': 'Profissão:', 'city': 'Praia', 'data_limit': '', 'area': 'Unknown', 'url': 'https://www.vagascv.info/2023/04/vaga-na-cozinha-em-empresa-de-restauraca-e-catering.html', 'number_points': 'Unknown', 'modal': 'Unknown'}, {'job_id': '69fe1510-d3aa-11ed-b645-0242ac140006', 'job_cod': ' Concurso Nº01_MM_2022_PRVPAP', 'title': 'Técnico Nível I', 'job_web': 'Concurso', 'job_data_post': {'days_from_epoch': 19452}, 'job_img': 'https://www.governo.cv/wp-content/themes/governocaboverde/img/svg/logo.svg', 'compane_name': 'MM - Ministério do Mar', 'city': 'Unknown', 'data_limit': '', 'area': ' Varias', 'url': 'https://www.mf.gov.cv/web/dnap/concursos-externos-funcionarios/-/asset_publisher/sapX9F8bZ2Zg/content/concurso-n%25C2%25BA01-mm_2022_prvpap?_com_liferay_asset_publisher_web_portlet_AssetPublisherPortlet_INSTANCE_sapX9F8bZ2Zg_redirect=https%3A%2F%2Fwww.mf.gov.cv%2Fweb%2Fdnap%2Fconcursos-externos-funcionarios%3Fp_p_id%3Dcom_liferay_asset_publisher_web_portlet_AssetPublisherPortlet_INSTANCE_sapX9F8bZ2Zg%26p_p_lifecycle%3D0%26p_p_state%3Dnormal%26p_p_mode%3Dview%26_com_liferay_asset_publisher_web_portlet_AssetPublisherPortlet_INSTANCE_sapX9F8bZ2Zg_cur%3D0%26p_r_p_resetCur%3Dfalse%26_com_liferay_asset_publisher_web_portlet_AssetPublisherPortlet_INSTANCE_sapX9F8bZ2Zg_assetEntryId%3D3068022', 'number_points': ' 11', 'modal': ' Concursos Externo'}, {'job_id': 'f753da80-d3aa-11ed-a9d9-0242ac140006', 'job_cod': '7829857125510477547', 'title': 'Recrutamento de Monitores e Voluntários de Tartarugas Marinhas 2023', 'job_web': 'vagascv', 'job_data_post': {'days_from_epoch': 19449}, 'job_img': 'https://blogger.googleusercontent.com/img/b/R29vZ2xl/AVvXsEjrUq8rtotGU3i4cvLmqRmsjQnQQ2EBqTHyakIiUpdg37Mqpk7g3lTnMsdXSrV0uCv7RWsySGf2XBfiS_fbHonl6GYIvnEelPacGtnORB25hsdxLXLDk7VSki_WRxdwK8OG4S4K6vXifsIW6-y-O0ru_kR9CPY-FSmZgdmg1rY2omeGB67m_d59TQ/w600-h300-p-k-no-nu/Biosfera-Cabo-Verde.png', 'compane_name': '- MONITORES', 'city': '', 'data_limit': '', 'area': 'Unknown', 'url': 'https://www.vagascv.info/2023/04/recrutamento-de-monitores-e-voluntarios-tartarugas-marinhas-2023.html', 'number_points': 'Unknown', 'modal': 'Unknown'}], 'total': 103, 'count': 10, 'pagination': {'previous': None, 'next': '/jobs?page_num=2&page_size=10'}}\n"
     ]
    }
   ],
   "source": [
    "if response.status_code == 200:\n",
    "    data = response.json()\n",
    "    print(data)\n",
    "else:\n",
    "    print('Error fetching data')"
   ]
  },
  {
   "cell_type": "code",
   "execution_count": null,
   "id": "369aed56",
   "metadata": {},
   "outputs": [],
   "source": []
  }
 ],
 "metadata": {
  "kernelspec": {
   "display_name": "Python 3 (ipykernel)",
   "language": "python",
   "name": "python3"
  },
  "language_info": {
   "codemirror_mode": {
    "name": "ipython",
    "version": 3
   },
   "file_extension": ".py",
   "mimetype": "text/x-python",
   "name": "python",
   "nbconvert_exporter": "python",
   "pygments_lexer": "ipython3",
   "version": "3.10.11"
  }
 },
 "nbformat": 4,
 "nbformat_minor": 5
}
